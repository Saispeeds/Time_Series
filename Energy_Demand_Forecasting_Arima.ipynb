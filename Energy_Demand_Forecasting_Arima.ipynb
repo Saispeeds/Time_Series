{
 "cells": [
  {
   "cell_type": "code",
   "execution_count": 2,
   "metadata": {},
   "outputs": [],
   "source": [
    "import pandas as pd\n",
    "import numpy as np\n",
    "import datetime\n",
    "import matplotlib.pyplot as plt\n",
    "import os\n",
    "import nbformat\n",
    "import plotly.express as px\n"
   ]
  },
  {
   "cell_type": "code",
   "execution_count": 3,
   "metadata": {},
   "outputs": [],
   "source": [
    "import six\n",
    "import joblib\n",
    "import sys\n",
    "sys.modules['sklearn.externals.six'] = six\n",
    "sys.modules['sklearn.externals.joblib'] = joblib\n",
    "import pmdarima as pm"
   ]
  },
  {
   "cell_type": "markdown",
   "metadata": {},
   "source": [
    "# Data"
   ]
  },
  {
   "cell_type": "code",
   "execution_count": 4,
   "metadata": {},
   "outputs": [
    {
     "data": {
      "text/html": [
       "<div>\n",
       "<style scoped>\n",
       "    .dataframe tbody tr th:only-of-type {\n",
       "        vertical-align: middle;\n",
       "    }\n",
       "\n",
       "    .dataframe tbody tr th {\n",
       "        vertical-align: top;\n",
       "    }\n",
       "\n",
       "    .dataframe thead th {\n",
       "        text-align: right;\n",
       "    }\n",
       "</style>\n",
       "<table border=\"1\" class=\"dataframe\">\n",
       "  <thead>\n",
       "    <tr style=\"text-align: right;\">\n",
       "      <th></th>\n",
       "      <th>timeStamp</th>\n",
       "      <th>demand</th>\n",
       "      <th>precip</th>\n",
       "      <th>temp</th>\n",
       "    </tr>\n",
       "  </thead>\n",
       "  <tbody>\n",
       "    <tr>\n",
       "      <th>0</th>\n",
       "      <td>2012-01-01 00:00:00</td>\n",
       "      <td>4937.5</td>\n",
       "      <td>0.0</td>\n",
       "      <td>46.13</td>\n",
       "    </tr>\n",
       "    <tr>\n",
       "      <th>1</th>\n",
       "      <td>2012-01-01 01:00:00</td>\n",
       "      <td>4752.1</td>\n",
       "      <td>0.0</td>\n",
       "      <td>45.89</td>\n",
       "    </tr>\n",
       "    <tr>\n",
       "      <th>2</th>\n",
       "      <td>2012-01-01 02:00:00</td>\n",
       "      <td>4542.6</td>\n",
       "      <td>0.0</td>\n",
       "      <td>45.04</td>\n",
       "    </tr>\n",
       "    <tr>\n",
       "      <th>3</th>\n",
       "      <td>2012-01-01 03:00:00</td>\n",
       "      <td>4357.7</td>\n",
       "      <td>0.0</td>\n",
       "      <td>45.03</td>\n",
       "    </tr>\n",
       "    <tr>\n",
       "      <th>4</th>\n",
       "      <td>2012-01-01 04:00:00</td>\n",
       "      <td>4275.5</td>\n",
       "      <td>0.0</td>\n",
       "      <td>42.61</td>\n",
       "    </tr>\n",
       "  </tbody>\n",
       "</table>\n",
       "</div>"
      ],
      "text/plain": [
       "             timeStamp  demand  precip   temp\n",
       "0  2012-01-01 00:00:00  4937.5     0.0  46.13\n",
       "1  2012-01-01 01:00:00  4752.1     0.0  45.89\n",
       "2  2012-01-01 02:00:00  4542.6     0.0  45.04\n",
       "3  2012-01-01 03:00:00  4357.7     0.0  45.03\n",
       "4  2012-01-01 04:00:00  4275.5     0.0  42.61"
      ]
     },
     "execution_count": 4,
     "metadata": {},
     "output_type": "execute_result"
    }
   ],
   "source": [
    "# DATA\n",
    "df = pd.read_csv('https://raw.githubusercontent.com/srivatsan88/YouTubeLI/master/dataset/nyc_energy_consumption.csv')\n",
    "df.head()"
   ]
  },
  {
   "cell_type": "code",
   "execution_count": 5,
   "metadata": {},
   "outputs": [],
   "source": [
    "# CUT THE MISSING DATA TAIL\n",
    "df['timeStamp'] = pd.to_datetime(df['timeStamp'])\n",
    "# demand missing from 2017-08-10\n",
    "df = df[df['timeStamp']<'2017-08-10']"
   ]
  },
  {
   "cell_type": "code",
   "execution_count": 6,
   "metadata": {},
   "outputs": [],
   "source": [
    "# ALL DATETIMES\n",
    "idx = pd.date_range(start = '2012-01-01 00:00:00', end = '2017-08-09 23:00:00', freq='H')\n",
    "df = df.set_index('timeStamp')\n",
    "df = df.reindex(idx)"
   ]
  },
  {
   "cell_type": "code",
   "execution_count": 7,
   "metadata": {},
   "outputs": [],
   "source": [
    "# FILL MISSING VALUES\n",
    "# Filling missing values with fill forward\n",
    "for col in df.columns:\n",
    "    df[col] = df[col].fillna(method='ffill')"
   ]
  },
  {
   "cell_type": "code",
   "execution_count": 8,
   "metadata": {},
   "outputs": [
    {
     "data": {
      "text/html": [
       "<div>\n",
       "<style scoped>\n",
       "    .dataframe tbody tr th:only-of-type {\n",
       "        vertical-align: middle;\n",
       "    }\n",
       "\n",
       "    .dataframe tbody tr th {\n",
       "        vertical-align: top;\n",
       "    }\n",
       "\n",
       "    .dataframe thead th {\n",
       "        text-align: right;\n",
       "    }\n",
       "</style>\n",
       "<table border=\"1\" class=\"dataframe\">\n",
       "  <thead>\n",
       "    <tr style=\"text-align: right;\">\n",
       "      <th></th>\n",
       "      <th>demand</th>\n",
       "      <th>precip</th>\n",
       "      <th>min_temp</th>\n",
       "      <th>max_temp</th>\n",
       "      <th>avg_temp</th>\n",
       "    </tr>\n",
       "  </thead>\n",
       "  <tbody>\n",
       "    <tr>\n",
       "      <th>2012-01-01</th>\n",
       "      <td>118916.0</td>\n",
       "      <td>0.0597</td>\n",
       "      <td>38.78</td>\n",
       "      <td>50.77</td>\n",
       "      <td>46.510000</td>\n",
       "    </tr>\n",
       "    <tr>\n",
       "      <th>2012-01-02</th>\n",
       "      <td>127270.9</td>\n",
       "      <td>0.0000</td>\n",
       "      <td>33.57</td>\n",
       "      <td>49.78</td>\n",
       "      <td>40.496667</td>\n",
       "    </tr>\n",
       "    <tr>\n",
       "      <th>2012-01-03</th>\n",
       "      <td>146292.3</td>\n",
       "      <td>0.0000</td>\n",
       "      <td>16.47</td>\n",
       "      <td>33.14</td>\n",
       "      <td>26.672500</td>\n",
       "    </tr>\n",
       "    <tr>\n",
       "      <th>2012-01-04</th>\n",
       "      <td>152070.4</td>\n",
       "      <td>0.0000</td>\n",
       "      <td>13.40</td>\n",
       "      <td>31.83</td>\n",
       "      <td>20.585000</td>\n",
       "    </tr>\n",
       "    <tr>\n",
       "      <th>2012-01-05</th>\n",
       "      <td>147125.9</td>\n",
       "      <td>0.0000</td>\n",
       "      <td>27.31</td>\n",
       "      <td>39.16</td>\n",
       "      <td>33.577500</td>\n",
       "    </tr>\n",
       "  </tbody>\n",
       "</table>\n",
       "</div>"
      ],
      "text/plain": [
       "              demand  precip  min_temp  max_temp   avg_temp\n",
       "2012-01-01  118916.0  0.0597     38.78     50.77  46.510000\n",
       "2012-01-02  127270.9  0.0000     33.57     49.78  40.496667\n",
       "2012-01-03  146292.3  0.0000     16.47     33.14  26.672500\n",
       "2012-01-04  152070.4  0.0000     13.40     31.83  20.585000\n",
       "2012-01-05  147125.9  0.0000     27.31     39.16  33.577500"
      ]
     },
     "execution_count": 8,
     "metadata": {},
     "output_type": "execute_result"
    }
   ],
   "source": [
    "# RESAMPLING DAILY\n",
    "df_daily = df[['demand', 'precip']].resample('D').sum()\n",
    "temp = df.groupby(df.index.date)['temp'].agg(min_temp = 'min', max_temp = 'max', avg_temp = 'mean')\n",
    "df_daily = df_daily.join(temp)\n",
    "df_daily.head()"
   ]
  },
  {
   "cell_type": "code",
   "execution_count": 17,
   "metadata": {},
   "outputs": [],
   "source": [
    "# SAVE TO CSV\n",
    "current_dir = os.getcwd()\n",
    "data_folder = 'Data'\n",
    "file_path = os.path.join(current_dir, data_folder, 'Energy_NY_Daily.csv')\n",
    "df_daily.to_csv(file_path)"
   ]
  },
  {
   "cell_type": "code",
   "execution_count": 18,
   "metadata": {},
   "outputs": [
    {
     "data": {
      "text/plain": [
       "<AxesSubplot:>"
      ]
     },
     "execution_count": 18,
     "metadata": {},
     "output_type": "execute_result"
    },
    {
     "data": {
      "image/png": "[encoded data removed]",
      "text/plain": [
       "<Figure size 432x288 with 1 Axes>"
      ]
     },
     "metadata": {
      "needs_background": "light"
     },
     "output_type": "display_data"
    }
   ],
   "source": [
    "df_daily['demand'].plot()"
   ]
  },
  {
   "cell_type": "code",
   "execution_count": 19,
   "metadata": {},
   "outputs": [
    {
     "data": {
      "text/plain": [
       "<AxesSubplot:>"
      ]
     },
     "execution_count": 19,
     "metadata": {},
     "output_type": "execute_result"
    },
    {
     "data": {
      "image/png": "[encoded data removed]",
      "text/plain": [
       "<Figure size 432x288 with 1 Axes>"
      ]
     },
     "metadata": {
      "needs_background": "light"
     },
     "output_type": "display_data"
    }
   ],
   "source": [
    "# Weekly seasonality\n",
    "df_daily['2017-01':'2017-02']['demand'].plot()"
   ]
  },
  {
   "cell_type": "markdown",
   "metadata": {},
   "source": [
    "# Modelling with pmdarima"
   ]
  },
  {
   "cell_type": "code",
   "execution_count": 20,
   "metadata": {},
   "outputs": [
    {
     "name": "stdout",
     "output_type": "stream",
     "text": [
      "(2008, 5)\n",
      "(40, 5)\n"
     ]
    }
   ],
   "source": [
    "train = df_daily['2012-01-01':'2017-06-30']\n",
    "test = df_daily['2017-07-01':'2017-08-09']\n",
    "print(train.shape)\n",
    "print(test.shape)"
   ]
  },
  {
   "cell_type": "code",
   "execution_count": 21,
   "metadata": {},
   "outputs": [
    {
     "name": "stdout",
     "output_type": "stream",
     "text": [
      "Fit ARIMA: order=(0, 1, 0) seasonal_order=(1, 0, 1, 7); AIC=41881.185, BIC=41903.603, Fit time=14.016 seconds\n",
      "Fit ARIMA: order=(0, 1, 0) seasonal_order=(0, 0, 0, 7); AIC=43223.970, BIC=43235.179, Fit time=0.258 seconds\n",
      "Fit ARIMA: order=(1, 1, 0) seasonal_order=(1, 0, 0, 7); AIC=42647.882, BIC=42670.300, Fit time=1.412 seconds\n",
      "Fit ARIMA: order=(0, 1, 1) seasonal_order=(0, 0, 1, 7); AIC=42809.447, BIC=42831.865, Fit time=1.621 seconds\n",
      "Fit ARIMA: order=(0, 1, 0) seasonal_order=(0, 0, 1, 7); AIC=42893.363, BIC=42910.176, Fit time=0.942 seconds\n",
      "Fit ARIMA: order=(0, 1, 0) seasonal_order=(2, 0, 1, 7); AIC=42233.994, BIC=42262.016, Fit time=17.967 seconds\n",
      "Fit ARIMA: order=(0, 1, 0) seasonal_order=(1, 0, 0, 7); AIC=42697.119, BIC=42713.932, Fit time=0.947 seconds\n",
      "Fit ARIMA: order=(0, 1, 0) seasonal_order=(1, 0, 2, 7); AIC=42237.338, BIC=42265.360, Fit time=17.137 seconds\n",
      "Fit ARIMA: order=(0, 1, 0) seasonal_order=(2, 0, 2, 7); AIC=42245.354, BIC=42278.980, Fit time=20.438 seconds\n",
      "Fit ARIMA: order=(1, 1, 0) seasonal_order=(1, 0, 1, 7); AIC=42143.188, BIC=42171.210, Fit time=13.105 seconds\n",
      "Fit ARIMA: order=(0, 1, 1) seasonal_order=(1, 0, 1, 7); AIC=42110.901, BIC=42138.923, Fit time=12.775 seconds\n",
      "Fit ARIMA: order=(1, 1, 1) seasonal_order=(1, 0, 1, 7); AIC=41890.297, BIC=41923.924, Fit time=18.042 seconds\n",
      "Total fit time: 118.796 seconds\n"
     ]
    }
   ],
   "source": [
    "model1 = pm.auto_arima(train['demand'],\n",
    "                      m = 7,\n",
    "                      seasonal = True,\n",
    "                      start_p = 0,\n",
    "                      start_q = 0,\n",
    "                      max_order = 7,\n",
    "                      test = 'adf',\n",
    "                      error_action = 'ignore',\n",
    "                      suppress_warnings = True,\n",
    "                      stepwise = True,\n",
    "                      trace = True)\n",
    "\n",
    "# m - number of periods in each season, e.g. 4 for quarterly data, 12 for monthly and so on. Seem not working for m = 365.\n",
    "# max_order - max value of p+q+P+Q"
   ]
  },
  {
   "cell_type": "code",
   "execution_count": 22,
   "metadata": {},
   "outputs": [
    {
     "data": {
      "text/html": [
       "<table class=\"simpletable\">\n",
       "<caption>SARIMAX Results</caption>\n",
       "<tr>\n",
       "  <th>Dep. Variable:</th>                  <td>y</td>                <th>  No. Observations:  </th>    <td>2008</td>   \n",
       "</tr>\n",
       "<tr>\n",
       "  <th>Model:</th>           <td>SARIMAX(0, 1, 0)x(1, 0, [1], 7)</td> <th>  Log Likelihood     </th> <td>-20936.593</td>\n",
       "</tr>\n",
       "<tr>\n",
       "  <th>Date:</th>                   <td>Mon, 17 Aug 2020</td>         <th>  AIC                </th>  <td>41881.185</td>\n",
       "</tr>\n",
       "<tr>\n",
       "  <th>Time:</th>                       <td>11:13:51</td>             <th>  BIC                </th>  <td>41903.603</td>\n",
       "</tr>\n",
       "<tr>\n",
       "  <th>Sample:</th>                         <td>0</td>                <th>  HQIC               </th>  <td>41889.415</td>\n",
       "</tr>\n",
       "<tr>\n",
       "  <th></th>                             <td> - 2008</td>             <th>                     </th>      <td> </td>    \n",
       "</tr>\n",
       "<tr>\n",
       "  <th>Covariance Type:</th>               <td>opg</td>               <th>                     </th>      <td> </td>    \n",
       "</tr>\n",
       "</table>\n",
       "<table class=\"simpletable\">\n",
       "<tr>\n",
       "      <td></td>         <th>coef</th>     <th>std err</th>      <th>z</th>      <th>P>|z|</th>  <th>[0.025</th>    <th>0.975]</th>  \n",
       "</tr>\n",
       "<tr>\n",
       "  <th>intercept</th> <td>   -0.0069</td> <td>    0.185</td> <td>   -0.037</td> <td> 0.970</td> <td>   -0.370</td> <td>    0.356</td>\n",
       "</tr>\n",
       "<tr>\n",
       "  <th>ar.S.L7</th>   <td>    1.0000</td> <td> 6.37e-05</td> <td> 1.57e+04</td> <td> 0.000</td> <td>    1.000</td> <td>    1.000</td>\n",
       "</tr>\n",
       "<tr>\n",
       "  <th>ma.S.L7</th>   <td>   -0.9990</td> <td>    0.013</td> <td>  -75.244</td> <td> 0.000</td> <td>   -1.025</td> <td>   -0.973</td>\n",
       "</tr>\n",
       "<tr>\n",
       "  <th>sigma2</th>    <td> 6.636e+07</td> <td> 2.33e-08</td> <td> 2.85e+15</td> <td> 0.000</td> <td> 6.64e+07</td> <td> 6.64e+07</td>\n",
       "</tr>\n",
       "</table>\n",
       "<table class=\"simpletable\">\n",
       "<tr>\n",
       "  <th>Ljung-Box (Q):</th>          <td>447.73</td> <th>  Jarque-Bera (JB):  </th> <td>1836.97</td>\n",
       "</tr>\n",
       "<tr>\n",
       "  <th>Prob(Q):</th>                 <td>0.00</td>  <th>  Prob(JB):          </th>  <td>0.00</td>  \n",
       "</tr>\n",
       "<tr>\n",
       "  <th>Heteroskedasticity (H):</th>  <td>0.81</td>  <th>  Skew:              </th>  <td>-0.12</td> \n",
       "</tr>\n",
       "<tr>\n",
       "  <th>Prob(H) (two-sided):</th>     <td>0.01</td>  <th>  Kurtosis:          </th>  <td>7.68</td>  \n",
       "</tr>\n",
       "</table><br/><br/>Warnings:<br/>[1] Covariance matrix calculated using the outer product of gradients (complex-step).<br/>[2] Covariance matrix is singular or near-singular, with condition number 5.92e+29. Standard errors may be unstable."
      ],
      "text/plain": [
       "<class 'statsmodels.iolib.summary.Summary'>\n",
       "\"\"\"\n",
       "                                      SARIMAX Results                                      \n",
       "===========================================================================================\n",
       "Dep. Variable:                                   y   No. Observations:                 2008\n",
       "Model:             SARIMAX(0, 1, 0)x(1, 0, [1], 7)   Log Likelihood              -20936.593\n",
       "Date:                             Mon, 17 Aug 2020   AIC                          41881.185\n",
       "Time:                                     11:13:51   BIC                          41903.603\n",
       "Sample:                                          0   HQIC                         41889.415\n",
       "                                            - 2008                                         \n",
       "Covariance Type:                               opg                                         \n",
       "==============================================================================\n",
       "                 coef    std err          z      P>|z|      [0.025      0.975]\n",
       "------------------------------------------------------------------------------\n",
       "intercept     -0.0069      0.185     -0.037      0.970      -0.370       0.356\n",
       "ar.S.L7        1.0000   6.37e-05   1.57e+04      0.000       1.000       1.000\n",
       "ma.S.L7       -0.9990      0.013    -75.244      0.000      -1.025      -0.973\n",
       "sigma2      6.636e+07   2.33e-08   2.85e+15      0.000    6.64e+07    6.64e+07\n",
       "===================================================================================\n",
       "Ljung-Box (Q):                      447.73   Jarque-Bera (JB):              1836.97\n",
       "Prob(Q):                              0.00   Prob(JB):                         0.00\n",
       "Heteroskedasticity (H):               0.81   Skew:                            -0.12\n",
       "Prob(H) (two-sided):                  0.01   Kurtosis:                         7.68\n",
       "===================================================================================\n",
       "\n",
       "Warnings:\n",
       "[1] Covariance matrix calculated using the outer product of gradients (complex-step).\n",
       "[2] Covariance matrix is singular or near-singular, with condition number 5.92e+29. Standard errors may be unstable.\n",
       "\"\"\""
      ]
     },
     "execution_count": 22,
     "metadata": {},
     "output_type": "execute_result"
    }
   ],
   "source": [
    "model1.summary()"
   ]
  },
  {
   "cell_type": "code",
   "execution_count": 23,
   "metadata": {},
   "outputs": [
    {
     "data": {
      "text/plain": [
       "ARIMA(order=(0, 1, 0), scoring_args={}, seasonal_order=(1, 0, 1, 7),\n",
       "      suppress_warnings=True)"
      ]
     },
     "execution_count": 23,
     "metadata": {},
     "output_type": "execute_result"
    }
   ],
   "source": [
    "model1.fit(train['demand'])"
   ]
  },
  {
   "cell_type": "code",
   "execution_count": 26,
   "metadata": {},
   "outputs": [
    {
     "data": {
      "text/plain": [
       "(array([168175.29206296, 165784.11896447, 181730.89222076, 184156.39833812,\n",
       "        184001.3694036 , 183069.84287468, 182157.83429678, 168402.24216624,\n",
       "        166011.06782361, 181957.79618618, 184383.28959432, 184228.25409298,\n",
       "        183296.72284555, 182384.70950267, 168629.14317857, 166237.9675918 ,\n",
       "        182184.65106075, 184610.1317597 , 184455.08969158, 183523.55372563,\n",
       "        182611.53561779, 168855.99510007, 166464.81826917, 182411.45684461,\n",
       "        184836.92483439, 184681.87619949, 183750.33551505, 182838.31264225,\n",
       "        169082.79793086, 166691.61985582, 182638.21353786, 185063.66881851,\n",
       "        184908.61361685, 183977.06821392, 183065.04057618, 169309.55167105,\n",
       "        166918.37235188, 182864.92114062, 185290.36371217, 185135.30194377]),\n",
       " array([[152188.82589923, 184161.75822668],\n",
       "        [143175.90528577, 188392.33264316],\n",
       "        [154041.62520512, 209420.1592364 ],\n",
       "        [152183.60224542, 216129.19443083],\n",
       "        [148254.70701244, 219748.03179476],\n",
       "        [143911.34374321, 222228.34200615],\n",
       "        [139861.82696332, 224453.84163023],\n",
       "        [123165.9920347 , 213638.49229778],\n",
       "        [118014.44512572, 214007.69052149],\n",
       "        [131351.14518853, 232564.44718382],\n",
       "        [131294.77426387, 237471.80492476],\n",
       "        [128768.82933231, 239687.67885366],\n",
       "        [125563.6722629 , 241029.7734282 ],\n",
       "        [122464.24167762, 242305.17732772],\n",
       "        [106583.77242188, 230674.51393526],\n",
       "        [102138.20764638, 230337.72753723],\n",
       "        [116094.3325435 , 248274.969578  ],\n",
       "        [116587.47980933, 252632.78371008],\n",
       "        [114553.50061799, 254356.67876516],\n",
       "        [111792.22771208, 255254.87973918],\n",
       "        [109095.99910806, 256127.07212751],\n",
       "        [ 93586.48172471, 244125.50847544],\n",
       "        [ 89481.41061559, 243448.22592275],\n",
       "        [103751.49141336, 261071.42227585],\n",
       "        [104535.39764261, 265138.45202618],\n",
       "        [102771.67917238, 266592.07322661],\n",
       "        [100262.45924126, 267238.21178884],\n",
       "        [ 97802.02278671, 267874.60249779],\n",
       "        [ 82515.27177657, 255650.32408515],\n",
       "        [ 78619.62259614, 254763.61711551],\n",
       "        [ 93087.01907786, 272189.40799785],\n",
       "        [ 94057.31652861, 276070.02110842],\n",
       "        [ 92470.00758552, 277347.21964819],\n",
       "        [ 90128.06388826, 277826.07253959],\n",
       "        [ 87826.52241876, 278303.5587336 ],\n",
       "        [ 72692.0466388 , 265927.0567033 ],\n",
       "        [ 68941.4485825 , 264895.29612126],\n",
       "        [ 83547.18642722, 282182.65585402],\n",
       "        [ 84649.67976233, 285931.04766202],\n",
       "        [ 83188.83509384, 287081.7687937 ]]))"
      ]
     },
     "execution_count": 26,
     "metadata": {},
     "output_type": "execute_result"
    }
   ],
   "source": [
    "forecast = model1.predict(n_periods=test.shape[0], return_conf_int=True)\n",
    "forecast"
   ]
  },
  {
   "cell_type": "code",
   "execution_count": 32,
   "metadata": {},
   "outputs": [
    {
     "data": {
      "text/plain": [
       "DatetimeIndex(['2017-07-01', '2017-07-02', '2017-07-03', '2017-07-04',\n",
       "               '2017-07-05', '2017-07-06', '2017-07-07', '2017-07-08',\n",
       "               '2017-07-09', '2017-07-10', '2017-07-11', '2017-07-12',\n",
       "               '2017-07-13', '2017-07-14', '2017-07-15', '2017-07-16',\n",
       "               '2017-07-17', '2017-07-18', '2017-07-19', '2017-07-20',\n",
       "               '2017-07-21', '2017-07-22', '2017-07-23', '2017-07-24',\n",
       "               '2017-07-25', '2017-07-26', '2017-07-27', '2017-07-28',\n",
       "               '2017-07-29', '2017-07-30', '2017-07-31', '2017-08-01',\n",
       "               '2017-08-02', '2017-08-03', '2017-08-04', '2017-08-05',\n",
       "               '2017-08-06', '2017-08-07', '2017-08-08', '2017-08-09'],\n",
       "              dtype='datetime64[ns]', freq='D')"
      ]
     },
     "execution_count": 32,
     "metadata": {},
     "output_type": "execute_result"
    }
   ],
   "source": [
    "forecast_range = pd.date_range(start = test.index[0], periods = test.shape[0], freq = 'D')\n",
    "forecast_range"
   ]
  },
  {
   "cell_type": "code",
   "execution_count": 28,
   "metadata": {},
   "outputs": [
    {
     "data": {
      "text/html": [
       "<div>\n",
       "<style scoped>\n",
       "    .dataframe tbody tr th:only-of-type {\n",
       "        vertical-align: middle;\n",
       "    }\n",
       "\n",
       "    .dataframe tbody tr th {\n",
       "        vertical-align: top;\n",
       "    }\n",
       "\n",
       "    .dataframe thead th {\n",
       "        text-align: right;\n",
       "    }\n",
       "</style>\n",
       "<table border=\"1\" class=\"dataframe\">\n",
       "  <thead>\n",
       "    <tr style=\"text-align: right;\">\n",
       "      <th></th>\n",
       "      <th>demand</th>\n",
       "      <th>precip</th>\n",
       "      <th>min_temp</th>\n",
       "      <th>max_temp</th>\n",
       "      <th>avg_temp</th>\n",
       "    </tr>\n",
       "  </thead>\n",
       "  <tbody>\n",
       "    <tr>\n",
       "      <th>2017-07-01</th>\n",
       "      <td>167727.891</td>\n",
       "      <td>0.0120</td>\n",
       "      <td>71.16</td>\n",
       "      <td>82.27</td>\n",
       "      <td>76.302500</td>\n",
       "    </tr>\n",
       "    <tr>\n",
       "      <th>2017-07-02</th>\n",
       "      <td>164529.893</td>\n",
       "      <td>0.0092</td>\n",
       "      <td>70.79</td>\n",
       "      <td>90.90</td>\n",
       "      <td>79.894583</td>\n",
       "    </tr>\n",
       "    <tr>\n",
       "      <th>2017-07-03</th>\n",
       "      <td>184752.935</td>\n",
       "      <td>0.0198</td>\n",
       "      <td>70.45</td>\n",
       "      <td>89.91</td>\n",
       "      <td>79.861250</td>\n",
       "    </tr>\n",
       "    <tr>\n",
       "      <th>2017-07-04</th>\n",
       "      <td>159836.057</td>\n",
       "      <td>0.0139</td>\n",
       "      <td>68.27</td>\n",
       "      <td>87.80</td>\n",
       "      <td>77.160833</td>\n",
       "    </tr>\n",
       "    <tr>\n",
       "      <th>2017-07-05</th>\n",
       "      <td>177945.266</td>\n",
       "      <td>0.0159</td>\n",
       "      <td>67.89</td>\n",
       "      <td>85.41</td>\n",
       "      <td>76.019583</td>\n",
       "    </tr>\n",
       "  </tbody>\n",
       "</table>\n",
       "</div>"
      ],
      "text/plain": [
       "                demand  precip  min_temp  max_temp   avg_temp\n",
       "2017-07-01  167727.891  0.0120     71.16     82.27  76.302500\n",
       "2017-07-02  164529.893  0.0092     70.79     90.90  79.894583\n",
       "2017-07-03  184752.935  0.0198     70.45     89.91  79.861250\n",
       "2017-07-04  159836.057  0.0139     68.27     87.80  77.160833\n",
       "2017-07-05  177945.266  0.0159     67.89     85.41  76.019583"
      ]
     },
     "execution_count": 28,
     "metadata": {},
     "output_type": "execute_result"
    }
   ],
   "source": [
    "test.head()"
   ]
  },
  {
   "cell_type": "code",
   "execution_count": 34,
   "metadata": {},
   "outputs": [
    {
     "data": {
      "text/html": [
       "<div>\n",
       "<style scoped>\n",
       "    .dataframe tbody tr th:only-of-type {\n",
       "        vertical-align: middle;\n",
       "    }\n",
       "\n",
       "    .dataframe tbody tr th {\n",
       "        vertical-align: top;\n",
       "    }\n",
       "\n",
       "    .dataframe thead th {\n",
       "        text-align: right;\n",
       "    }\n",
       "</style>\n",
       "<table border=\"1\" class=\"dataframe\">\n",
       "  <thead>\n",
       "    <tr style=\"text-align: right;\">\n",
       "      <th></th>\n",
       "      <th>prediction</th>\n",
       "    </tr>\n",
       "  </thead>\n",
       "  <tbody>\n",
       "    <tr>\n",
       "      <th>2017-07-01</th>\n",
       "      <td>168175.292063</td>\n",
       "    </tr>\n",
       "    <tr>\n",
       "      <th>2017-07-02</th>\n",
       "      <td>165784.118964</td>\n",
       "    </tr>\n",
       "    <tr>\n",
       "      <th>2017-07-03</th>\n",
       "      <td>181730.892221</td>\n",
       "    </tr>\n",
       "    <tr>\n",
       "      <th>2017-07-04</th>\n",
       "      <td>184156.398338</td>\n",
       "    </tr>\n",
       "    <tr>\n",
       "      <th>2017-07-05</th>\n",
       "      <td>184001.369404</td>\n",
       "    </tr>\n",
       "  </tbody>\n",
       "</table>\n",
       "</div>"
      ],
      "text/plain": [
       "               prediction\n",
       "2017-07-01  168175.292063\n",
       "2017-07-02  165784.118964\n",
       "2017-07-03  181730.892221\n",
       "2017-07-04  184156.398338\n",
       "2017-07-05  184001.369404"
      ]
     },
     "execution_count": 34,
     "metadata": {},
     "output_type": "execute_result"
    }
   ],
   "source": [
    "forecast_df = pd.DataFrame(forecast[0], index = forecast_range, columns = ['prediction'])\n",
    "forecast_df.head()"
   ]
  },
  {
   "cell_type": "code",
   "execution_count": 35,
   "metadata": {},
   "outputs": [
    {
     "data": {
      "text/plain": [
       "<AxesSubplot:>"
      ]
     },
     "execution_count": 35,
     "metadata": {},
     "output_type": "execute_result"
    },
    {
     "data": {
      "image/png": "[encoded data removed]",
      "text/plain": [
       "<Figure size 432x288 with 1 Axes>"
      ]
     },
     "metadata": {
      "needs_background": "light"
     },
     "output_type": "display_data"
    }
   ],
   "source": [
    "pd.concat([df_daily['demand'], forecast_df], axis = 1).plot()"
   ]
  },
  {
   "cell_type": "code",
   "execution_count": 36,
   "metadata": {},
   "outputs": [],
   "source": [
    "# Confidence interval\n",
    "lower = pd.Series(forecast[1][:,0], index = forecast_range)\n",
    "upper = pd.Series(forecast[1][:,1], index = forecast_range)"
   ]
  },
  {
   "cell_type": "code",
   "execution_count": 37,
   "metadata": {},
   "outputs": [
    {
     "data": {
      "text/plain": [
       "<matplotlib.collections.PolyCollection at 0x13fc669a248>"
      ]
     },
     "execution_count": 37,
     "metadata": {},
     "output_type": "execute_result"
    },
    {
     "data": {
      "image/png": "[encoded data removed]",
      "text/plain": [
       "<Figure size 432x288 with 1 Axes>"
      ]
     },
     "metadata": {
      "needs_background": "light"
     },
     "output_type": "display_data"
    }
   ],
   "source": [
    "plt.plot(df_daily['demand'])\n",
    "plt.plot(forecast_df, color = 'orange')\n",
    "plt.fill_between(forecast_range, lower, upper, alpha = 1.5)"
   ]
  },
  {
   "cell_type": "code",
   "execution_count": 40,
   "metadata": {},
   "outputs": [],
   "source": [
    "#out = model1.plot_diagnostics()"
   ]
  },
  {
   "cell_type": "code",
   "execution_count": null,
   "metadata": {},
   "outputs": [],
   "source": [
    "# Far from great results mainly due to absence of covariates and m = 7 instead of 365 (or both)"
   ]
  }
 ],
 "metadata": {
  "kernelspec": {
   "display_name": "Python [conda env:timeseries_py37_env]",
   "language": "python",
   "name": "conda-env-timeseries_py37_env-py"
  },
  "language_info": {
   "codemirror_mode": {
    "name": "ipython",
    "version": 3
   },
   "file_extension": ".py",
   "mimetype": "text/x-python",
   "name": "python",
   "nbconvert_exporter": "python",
   "pygments_lexer": "ipython3",
   "version": "3.7.7"
  }
 },
 "nbformat": 4,
 "nbformat_minor": 4
}
